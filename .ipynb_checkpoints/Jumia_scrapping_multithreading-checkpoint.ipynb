{
 "cells": [
  {
   "cell_type": "code",
   "execution_count": 1,
   "metadata": {},
   "outputs": [],
   "source": [
    "from config import *\n",
    "from selenium import webdriver\n",
    "from selenium.webdriver.firefox.options import Options\n",
    "import os\n",
    "import pymongo\n",
    "from time import sleep\n",
    "import pandas as pd\n",
    "import numpy as np\n",
    "import re\n",
    "import csv\n",
    "import sys\n",
    "from time import sleep\n",
    "from multiprocessing import Process\n",
    "from selenium.webdriver.common.by import By"
   ]
  },
  {
   "cell_type": "code",
   "execution_count": 2,
   "metadata": {},
   "outputs": [],
   "source": [
    "client = pymongo.MongoClient(f\"mongodb+srv://{mongo_user}:{mongo_pass}@{mongo_url}\")\n",
    "db = client.jumia"
   ]
  },
  {
   "cell_type": "code",
   "execution_count": 3,
   "metadata": {},
   "outputs": [],
   "source": [
    "try:\n",
    "    current_path = os.path.dirname(os.path.abspath(__file__))\n",
    "except:\n",
    "    current_path = '.'"
   ]
  },
  {
   "cell_type": "code",
   "execution_count": 4,
   "metadata": {},
   "outputs": [],
   "source": [
    "def init_driver(gecko_driver='', user_agent='', load_images=True, is_headless=False):\n",
    "    '''\n",
    "        This function is just to set up some of default for browser\n",
    "    '''\n",
    "    firefox_profile = webdriver.FirefoxProfile()\n",
    "    \n",
    "    firefox_profile.set_preference('dom.ipc.plugins.enabled.libflashplayer.so', False)\n",
    "    firefox_profile.set_preference(\"media.volume_scale\", \"0.0\")\n",
    "    firefox_profile.set_preference(\"dom.webnotifications.enabled\", False)\n",
    "    if user_agent != '':\n",
    "        firefox_profile.set_preference(\"general.useragent.override\", user_agent)\n",
    "    if not load_images:\n",
    "        firefox_profile.set_preference('permissions.default.image', 2)\n",
    "\n",
    "    options = Options()\n",
    "    options.headless = is_headless\n",
    "    \n",
    "    driver = webdriver.Firefox(options=options,\n",
    "                               executable_path=f'{current_path}/{gecko_driver}',\n",
    "                               firefox_profile=firefox_profile)\n",
    "    \n",
    "    return driver"
   ]
  },
  {
   "cell_type": "code",
   "execution_count": 5,
   "metadata": {},
   "outputs": [],
   "source": [
    "def get_url(url, driver):\n",
    "    '''\n",
    "    Argument:\n",
    "        url of any page to get\n",
    "        driver that was inilized\n",
    "    return:\n",
    "        True\n",
    "    '''\n",
    "    driver.get(url)\n",
    "    driver.refresh()\n",
    "#     sleep(2)\n",
    "    return True\n"
   ]
  },
  {
   "cell_type": "code",
   "execution_count": 6,
   "metadata": {},
   "outputs": [],
   "source": [
    "def clean_number(money):\n",
    "    '''\n",
    "    Argument:\n",
    "        a function take a money but as string and clean it,\n",
    "        to be value that can be used for math operations\n",
    "        \n",
    "    return:\n",
    "        money as float number\n",
    "    '''\n",
    "\n",
    "    money = re.findall('[0-9.]', money)\n",
    "    money = \"\".join(money)\n",
    "    return float(money)"
   ]
  },
  {
   "cell_type": "code",
   "execution_count": 7,
   "metadata": {},
   "outputs": [],
   "source": [
    "def main_feature(driver2):\n",
    "    '''\n",
    "        Argument:\n",
    "            driver to find elements int the page\n",
    "        return:\n",
    "            most of feature related to one product\n",
    "    '''\n",
    "    genral_info = []\n",
    "# get most information about product\n",
    "    try:\n",
    "        features = driver2.find_elements_by_css_selector(\"#jm div.card div.markup ul\")\n",
    "        for ul in features:\n",
    "            li_inside_ul = ul.find_elements_by_css_selector('li')\n",
    "            strong_li = ''\n",
    "            for li in li_inside_ul:\n",
    "                genral_info.append(li.text)\n",
    "    except Exception as e:\n",
    "# send exception to log folder\n",
    "        file = open(\"logs_files/main_feature_product.log\",\"+a\")\n",
    "        file.write(\"This error related to function main_feature of Jumia_scrapping_multithreading file\\n\" \n",
    "                   + str(e) + \"\\n\" + \"#\" *99 + \"\\n\") # \"#\" *99 as separated lines\n",
    "    return genral_info"
   ]
  },
  {
   "cell_type": "code",
   "execution_count": 8,
   "metadata": {},
   "outputs": [],
   "source": [
    "def one_product_reviews(driver2):\n",
    "    '''\n",
    "        This functions used to get one product reviews for any product in souq site \n",
    "        just pass driver for this product then you will get all reviews\n",
    "        some of these products have more than 100 reviews but souq display just first 5 reviews\n",
    "        so we use the button show-more-result to display all reviews then we get all of product reviews\n",
    "    Argument:\n",
    "        driver of product page\n",
    "    return:\n",
    "        All reviews of this products as list of lists each of them display one use review.\n",
    "        some of these reviews are arabic and english,\n",
    "        this handling at second stage of cleaning data we separate them.\n",
    "    '''\n",
    "    \n",
    "    all_reviews_for_one_pro = []\n",
    "    try:\n",
    "# represent all reviews pages\n",
    "        show_more = driver2.find_element(By.LINK_TEXT, \"عرض الكل\") \n",
    "        show_more.click()\n",
    "        while True:\n",
    "            reviews = driver2.find_elements_by_css_selector('article p.-pvs')\n",
    "            for review in reviews:\n",
    "                all_reviews_for_one_pro.append(review.text)\n",
    "#get all reviews of each page            \n",
    "            show_more = driver2.find_element_by_xpath('//a[@aria-label=\\'الصفحة التالية\\']')\n",
    "            previews_url = driver2.current_url\n",
    "            show_more.click()\n",
    "            next_url = driver2.current_url\n",
    " # break if there is no other reviews\n",
    "            assert(previews_url != next_url)\n",
    "    except Exception as e:\n",
    "# send exception to log folder\n",
    "        file = open(\"logs_files/one_product_reviews.log\",\"+a\")\n",
    "        file.write(\"This error related to function one_product_reviews of Jumia_scrapping_multithreading file\\n\" \n",
    "               + str(e) + \"\\n\" + \"#\" *99 + \"\\n\") # \"#\" *99 as separated lines\n",
    "    return all_reviews_for_one_pro\n"
   ]
  },
  {
   "cell_type": "code",
   "execution_count": 9,
   "metadata": {},
   "outputs": [],
   "source": [
    "def products_info(driver):\n",
    "    '''\n",
    "    Argumetn:\n",
    "        Driver of page with products\n",
    "    return:\n",
    "        all info related to these prodcuts for each prodcut\n",
    "    '''\n",
    "    \n",
    "    products = driver.find_elements_by_css_selector('.products .sku')\n",
    "    page_products_info = []        \n",
    "    \n",
    "    for pro in products:\n",
    "        pro_url        = ''\n",
    "        pro_brand      = ''\n",
    "        pro_title      = ''\n",
    "        old_price      = ''\n",
    "        new_price      = ''\n",
    "        pro_disc_prc   = 0.0\n",
    "        pro_disc_val   = 0.0\n",
    "        image_src = ''\n",
    "        selector = pro.find_elements_by_css_selector\n",
    "        \n",
    "# first try to get main info about the product like title and url\n",
    "        try:\n",
    "            pro_url = selector('a.link')[0].get_attribute('href')\n",
    "            pro_brand = selector('h2.title span.brand')[0].text\n",
    "            pro_title = selector('h2.title span.name')[0].text\n",
    "            new_price = selector('div.price-container .price-box .price')[0].text\n",
    "            new_price = clean_number(new_price)\n",
    "            image_src = selector('div.image-wrapper img')\n",
    "            image_src = image_src[0].get_attribute('data-src')\n",
    "# check if there is oldprice of this product to get discount\n",
    "            try:\n",
    "                len(selector('div.price-container .price-box span.-old')[0].text)\n",
    "                old_price = selector('div.col-buy ul.list-blocks li .price-inline span.itemOldPrice')[0].text\n",
    "                old_price = clean_number(old_price)   \n",
    "                pro_disc_prc = round(100 - ((new_price / old_price) * 100))\n",
    "                pro_disc_val = old_price - new_price\n",
    "            except:\n",
    "                old_price = 0.0\n",
    "\n",
    "# Check of this product on our mongo cloud database\n",
    "            if db.products.count_documents({'$or': [{\"product_url\": pro_url}, {\"product_title\":pro_title}]}) == 0:\n",
    "                \n",
    "#get the features and reviews of the prodcut\n",
    "                driver2 = init_driver(gecko_driver,user_agent=user_agent)\n",
    "                _ = get_url(pro_url, driver2)\n",
    "                main_feature_of_product = main_feature(driver2)\n",
    "                product_reviews = one_product_reviews(driver2)\n",
    "                driver2.close()\n",
    "                one_product_info = {\n",
    "                    'pro_brand'                   : pro_brand,\n",
    "                    'product_title'               : pro_title,\n",
    "                    'product_url'                 : pro_url,\n",
    "                    'image_src'                   : image_src,\n",
    "                    'product_new_price'           : new_price,\n",
    "                    'product_old_price'           : old_price,\n",
    "                    'product_discount_percentage' : pro_disc_prc,\n",
    "                    'product_discount_value'      : pro_disc_val,\n",
    "                    'product_reviews'             : product_reviews,\n",
    "                    'main_feature_of_product'     : main_feature_of_product,\n",
    "                    'Uploaded_product'                    : False                   \n",
    "                }\n",
    "                _ = db.products.insert_one(one_product_info)\n",
    "                page_products_info.append(one_product_info)\n",
    "                driver2.close()\n",
    "            else:\n",
    "# once product is exist get it and update it\n",
    "                pd = db.products.find_one({'$or': [{\"product_url\": pro_url}, {\"product_title\":pro_title}]})\n",
    "                driver2 = init_driver(gecko_driver,user_agent=user_agent)\n",
    "                _ = get_url(pro_url, driver2)\n",
    "                reviews_number = driver2.find_element_by_css_selector(\"h2.-ptm\")\n",
    "                reviews_number = int(clean_number(reviews_number.text))                 \n",
    "# no need to call one_product_reviews function and hit the show_more button for just few added reviews\n",
    "# so comapre different between last count of this product reviews with new added reviews\n",
    "                if abs(len(pd['product_reviews']) - reviews_number) > 5:\n",
    "                    product_reviews = one_product_reviews(driver2)\n",
    "        \n",
    "                if pd['product_new_price'] != new_price or pd['product_old_price'] != old_price:\n",
    "                      db.products.update_one({'_id': pd['_id']}, { '$set':{\n",
    "                        'product_title'               :pro_title,\n",
    "                        'product_url'                 : pro_url,\n",
    "                        'product_new_price'           : new_price,\n",
    "                        'product_old_price'           : old_price,\n",
    "                        'product_discount_percentage' : pro_disc_prc,\n",
    "                        'product_discount_value'      : pro_disc_val,\n",
    "                        'product_reviews'             : product_reviews,\n",
    "                        }\n",
    "                                                                \n",
    "                }) # end of update_one\n",
    "                    \n",
    "                driver2.close()\n",
    "\n",
    "# send exception to log folder\n",
    "        except Exception as e:\n",
    "            file = open(\"logs_files/products_info.log\",\"+a\")\n",
    "            file.write(\"This error related to function products_info of Souq_scrapping_multithreading file\\n\" \n",
    "               + str(e) + \"\\n\" + \"#\" *99 + \"\\n\") # \"#\" *99 as separated lines\n",
    "    return page_products_info\n",
    "        \n",
    "\n",
    "      \n",
    "    "
   ]
  },
  {
   "cell_type": "code",
   "execution_count": 10,
   "metadata": {},
   "outputs": [],
   "source": [
    "def scrap_pages(page_url,next_page):\n",
    "    '''\n",
    "    Argument:\n",
    "        page_url to as start page\n",
    "    return:\n",
    "        dictionary for all pages contain:\n",
    "        for each page get all prdocuts info contain:\n",
    "        for each prodcut get all reviews and main features  \n",
    "    '''\n",
    "    all_page_products = []\n",
    "    next_page = page_url\n",
    "    while len(next_page):\n",
    "        try:\n",
    "            driver = init_driver(gecko_driver,user_agent=user_agent)\n",
    "            get_url(next_page, driver)\n",
    "            products_infos = products_info(driver)\n",
    "            all_page_products.append(products_infos)\n",
    "            click_next = driver.find_element_by_css_selector('.pagination .osh-pagination .item .osh-font-light-arrow-right')\n",
    "            click_next.click()\n",
    "            sleep(2)\n",
    "            next_page = driver.current_url\n",
    "            driver.quit()\n",
    "        except Exception as e:\n",
    "            sleep(10000)\n",
    "            next_page = page_url\n",
    "            driver.quit()\n",
    "            file = open(\"logs_files/scrap_pages.log\",\"+a\")\n",
    "            file.write(\"This error related to function scrap_pages of Jumia_scrapping_multithreading file\\n\" \n",
    "               + str(e) + \"\\n\" + \"#\" *99 + \"\\n\") # \"#\" *99 as separated lines\n",
    "    return all_page_products\n"
   ]
  },
  {
   "cell_type": "markdown",
   "metadata": {},
   "source": [
    "### Call the main function with multithreading process"
   ]
  },
  {
   "cell_type": "code",
   "execution_count": null,
   "metadata": {},
   "outputs": [],
   "source": [
    "if __name__ == '__main__':\n",
    "    p1 = Process(target=scrap_pages, args=(jumia_url_mobile,1))\n",
    "    p1.start()\n",
    "    p2 = Process(target=scrap_pages, args=(jumia_url_electronics,1))\n",
    "    p2.start()\n",
    "    p3 = Process(target=scrap_pages, args=(jumia_url_computing,1))\n",
    "    p3.start()\n",
    "    p1.join()\n",
    "    p2.join()\n",
    "    p3.join()"
   ]
  },
  {
   "cell_type": "code",
   "execution_count": 35,
   "metadata": {},
   "outputs": [
    {
     "data": {
      "text/plain": [
       "True"
      ]
     },
     "execution_count": 35,
     "metadata": {},
     "output_type": "execute_result"
    }
   ],
   "source": [
    "driver = init_driver(gecko_driver,user_agent=user_agent)\n",
    "get_url('https://translate.google.com/', driver)"
   ]
  },
  {
   "cell_type": "code",
   "execution_count": 36,
   "metadata": {},
   "outputs": [],
   "source": [
    "en_selctor = driver.find_element_by_css_selector('#sugg-item-en')\n",
    "en_selctor.click()"
   ]
  },
  {
   "cell_type": "code",
   "execution_count": 37,
   "metadata": {},
   "outputs": [],
   "source": [
    "ar_selctor = driver.find_element_by_css_selector('#sugg-item-ar')\n",
    "ar_selctor.click()"
   ]
  },
  {
   "cell_type": "code",
   "execution_count": 47,
   "metadata": {},
   "outputs": [],
   "source": [
    "source = driver.find_element_by_css_selector('#source')"
   ]
  },
  {
   "cell_type": "code",
   "execution_count": 48,
   "metadata": {},
   "outputs": [],
   "source": [
    "source.clear()"
   ]
  },
  {
   "cell_type": "code",
   "execution_count": 50,
   "metadata": {},
   "outputs": [],
   "source": [
    "source.send_keys('Welcome to selnium')"
   ]
  },
  {
   "cell_type": "code",
   "execution_count": null,
   "metadata": {},
   "outputs": [],
   "source": [
    "translate = driver.find_element_by_css_selector('')"
   ]
  }
 ],
 "metadata": {
  "kernelspec": {
   "display_name": "Python 3",
   "language": "python",
   "name": "python3"
  },
  "language_info": {
   "codemirror_mode": {
    "name": "ipython",
    "version": 3
   },
   "file_extension": ".py",
   "mimetype": "text/x-python",
   "name": "python",
   "nbconvert_exporter": "python",
   "pygments_lexer": "ipython3",
   "version": "3.7.4"
  }
 },
 "nbformat": 4,
 "nbformat_minor": 2
}
